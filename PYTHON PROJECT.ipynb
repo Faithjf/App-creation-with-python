{
 "cells": [
  {
   "cell_type": "markdown",
   "id": "6bb7c1a8",
   "metadata": {},
   "source": [
    "# PROJECT\n",
    "## Your friend operates a grocery store and sells the following items:\n",
    "1. Beverages: chocolate drinks, coffee, tea, Soy Drinks, Pop and Soda\n",
    "2. Phone accessories: Carrying Case, earpieces, Screen guards\n",
    "3. Toiletries: Toilet paper, Body Soap, Scrubs, Body Crème, Shampoo\n",
    "4. Pastry: Pizza, Burgers, Donuts, Muffins, Cheesecakes, \n",
    "5. Cosmetics: Perfumes, vanishes, Nail Polish, Deodorants, Facial Scrubs, \n",
    "## Your friend wants to be able to record each sale and automatically compute total sale for a customer at check out and generate a receipt for the customer.\n",
    "**As part of the requirements.**\n",
    "1. App should store information about the products by category in the store.\n",
    "\n",
    "2. Store and automatically update inventory of each product after sale or restocking.\n",
    "\n",
    "3. Raise an alert if any product inventory falls below 5 pieces.\n",
    "\n",
    "4. Store information about the purchase cost of each product and the sale price per unit.\n",
    "\n",
    "5. Allow the store owner to enter sales per item for each customer and generate a total sales \n",
    "receipt after the sale.\n",
    "\n",
    "6. For each customer sales checkout:\n",
    "* Record sales by item and the sales value\n",
    "* Show total sales by product\n",
    "* Show total sales by category\n",
    "* Show total sales for each day\n",
    "\n",
    "## TASK:\n",
    "\n",
    "* Use your acquired knowledge of python to implement the above requirements\n",
    "* Use python variables, containers, User-input functions, functions, conditional statements and Loops as necessary"
   ]
  },
  {
   "cell_type": "markdown",
   "id": "ed379cb3",
   "metadata": {},
   "source": [
    "## Creating a dictionary to store each products"
   ]
  },
  {
   "cell_type": "code",
   "execution_count": 1,
   "id": "e7a72bfe",
   "metadata": {},
   "outputs": [],
   "source": [
    "# 1. CATEGORIES OF PRODUCTS IN STORE\n",
    "\n",
    "prod_cat = ['beverages', 'phone_accessories', 'toiletries', 'pastry', 'cosmetics']\n",
    "\n",
    "prod_dict =  {'beverages':['Chocolate_drinks', 'Coffee', 'Tea', 'Soy_Drinks', 'Pop', 'Soda'],\n",
    "            'phone_accessories':['Carrying_Case', 'Earpieces', 'ScreenGuards'],\n",
    "            'toiletries':['Toilet_paper', 'Body_Soap', 'Scrubs', 'Body_Crème', 'Shampoo'],\n",
    "            'pastry':['Pizza', 'Burgers', 'Donuts', 'Muffins', 'Cheesecakes'],\n",
    "            'cosmetics':['Perfumes', 'vanishes', 'Nail_Polish', 'Deodorants', 'Facial_Scrubs'],\n",
    "             }"
   ]
  },
  {
   "cell_type": "markdown",
   "id": "4c8ed88d",
   "metadata": {},
   "source": [
    "## The inventory below shows the number of each products avaliable in stock"
   ]
  },
  {
   "cell_type": "code",
   "execution_count": 3,
   "id": "e8f1c9e0",
   "metadata": {},
   "outputs": [],
   "source": [
    "# 2.INVENTORY STOCK\n",
    "\n",
    "bev_invent = {'Chocolate_drinks':500, 'Coffee':300, 'Tea':105, 'Soy_Drinks':200, 'Pop':5, 'Soda':3}\n",
    "phone_ass_invent = {'Carrying_Case':350, 'Earpieces':160, 'Screen_guards':120}\n",
    "toilet_invent = {'Toilet_paper':380, 'Body_Soap':40, 'Scrubs':50, 'Body_Crème':100, 'Shampoo':30}\n",
    "pastry_invent = {'Pizza':15, 'Burgers':4, 'Donuts':100, 'Muffins':120, 'Cheesecakes':20}\n",
    "cosmestic_invent = {'Perfumes':360, 'vanishes':130, 'Nail_Polish':40, 'Deodorants':250, 'Facial_Scrubs':145}\n",
    "\n",
    "inventory_list = ['bev_invent', 'phone_ass_invent','toilet_invent','pastry_invent','cosmestic_invent']"
   ]
  },
  {
   "cell_type": "code",
   "execution_count": 5,
   "id": "1d32c5dd",
   "metadata": {},
   "outputs": [
    {
     "name": "stdout",
     "output_type": "stream",
     "text": [
      "beverages ['Chocolate_drinks', 'Coffee', 'Tea', 'Soy_Drinks', 'Pop', 'Soda']\n",
      "phone_accessories ['Carrying_Case', 'Earpieces', 'ScreenGuards']\n",
      "toiletries ['Toilet_paper', 'Body_Soap', 'Scrubs', 'Body_Crème', 'Shampoo']\n",
      "pastry ['Pizza', 'Burgers', 'Donuts', 'Muffins', 'Cheesecakes']\n",
      "cosmetics ['Perfumes', 'vanishes', 'Nail_Polish', 'Deodorants', 'Facial_Scrubs']\n"
     ]
    }
   ],
   "source": [
    " for k, v in prod_dict.items():\n",
    "        print(k,v)"
   ]
  },
  {
   "cell_type": "markdown",
   "id": "6a8e53e6",
   "metadata": {},
   "source": [
    "## checking if pizza is present in stock with 15 quantities"
   ]
  },
  {
   "cell_type": "code",
   "execution_count": 6,
   "id": "da3c12dd",
   "metadata": {},
   "outputs": [
    {
     "data": {
      "text/plain": [
       "15"
      ]
     },
     "execution_count": 6,
     "metadata": {},
     "output_type": "execute_result"
    }
   ],
   "source": [
    "pastry_invent['Pizza']"
   ]
  },
  {
   "cell_type": "markdown",
   "id": "3b5bcf21",
   "metadata": {},
   "source": [
    "## created the function that increase inventory when more products are bought into the stock"
   ]
  },
  {
   "cell_type": "code",
   "execution_count": 4,
   "id": "326f1218",
   "metadata": {},
   "outputs": [],
   "source": [
    "# 3a. INVENTORY UPDATE (WHEN NEW PRODUCTS ARE BOUGTH)\n",
    "\n",
    "def inventory_updater(prod, qty):\n",
    "    '''\n",
    "    This function updates our inventory whenever we purchase new products\n",
    "    '''\n",
    "    for k, v in prod_dict.items():\n",
    "        \n",
    "        \n",
    "        category = k\n",
    "        prod_list = v\n",
    "        \n",
    "        if prod in prod_list:\n",
    "            \n",
    "            if category == 'beverages':\n",
    "                old_qty = bev_invent[prod]\n",
    "                bev_invent[prod] += qty \n",
    "                print('update successful')\n",
    "                return [old_qty, bev_invent[prod]]\n",
    "            \n",
    "            elif category == 'phone_accessories':\n",
    "                old_qty = phone_ass_invent[prod]\n",
    "                phone_ass_invent[prod] += qty \n",
    "                print('update successful')\n",
    "                return [old_qty,phone_ass_invent[prod]]\n",
    "            \n",
    "            elif category == 'toiletries':\n",
    "                old_qty = toilet_invent[prod]\n",
    "                toilet_invent[prod] += qty  \n",
    "                print('update successful')\n",
    "                return [old_qty, toilet_invent[prod]]\n",
    "\n",
    "            elif category == 'pastry':\n",
    "                old_qty = pastry_invent[prod]                       \n",
    "                pastry_invent[prod] += qty  \n",
    "                print('update successful')\n",
    "                return [old_qty, pastry_invent[prod]]\n",
    "\n",
    "            elif category == 'cosmetics':\n",
    "                old_qty = cosmestic_invent[prod]\n",
    "                cosmestic_invent[prod] += qty \n",
    "                print('update successful')\n",
    "                return [old_qty, cosmestic_invent[prod]]\n",
    "\n",
    "        \n",
    "    return  [f'{prod}  not found in inventory, do you want to add as new product?', '...']"
   ]
  },
  {
   "cell_type": "markdown",
   "id": "1fa335b4",
   "metadata": {},
   "source": [
    "## Testing the function, the attest if it returns desire output"
   ]
  },
  {
   "cell_type": "code",
   "execution_count": 5,
   "id": "35eef11e",
   "metadata": {},
   "outputs": [
    {
     "name": "stdout",
     "output_type": "stream",
     "text": [
      "specify item: Soy_Drinks\n",
      "specify number of qty purchased: 30\n",
      "update successful\n",
      "Soy_Drinks inventory updated from 200 to  230\n"
     ]
    }
   ],
   "source": [
    "#Testing the product that is in beverages in  our inventory\n",
    "\n",
    "new_invent = input('specify item: ')\n",
    "invent_qty = int(input('specify number of qty purchased: '))\n",
    "\n",
    "old_qty, new_qty= inventory_updater(new_invent, invent_qty)\n",
    "\n",
    "if new_qty != '...':\n",
    "    print(f'{new_invent} inventory updated from {old_qty} to  {new_qty}')\n",
    "else:\n",
    "    print('not found in inventory, do you want to add as new product?')\n"
   ]
  },
  {
   "cell_type": "code",
   "execution_count": 6,
   "id": "8b4bfa29",
   "metadata": {},
   "outputs": [
    {
     "name": "stdout",
     "output_type": "stream",
     "text": [
      "specify item: Nail_Polish\n",
      "specify number of qty: 15\n",
      "update successful\n",
      "Nail_Polish inventory updated from 40 to  55\n"
     ]
    }
   ],
   "source": [
    "#Testing the product that is in cosmestic in our inventory\n",
    "\n",
    "new_invent = input('specify item: ')\n",
    "invent_qty = int(input('specify number of qty: '))\n",
    "\n",
    "old_qty, new_qty= inventory_updater(new_invent, invent_qty)\n",
    "\n",
    "if new_qty != '...':\n",
    "    print(f'{new_invent} inventory updated from {old_qty} to  {new_qty}')\n",
    "else:\n",
    "    print('not found in inventory, do you want to add as new product?')\n"
   ]
  },
  {
   "cell_type": "code",
   "execution_count": 7,
   "id": "9c724c25",
   "metadata": {},
   "outputs": [
    {
     "name": "stdout",
     "output_type": "stream",
     "text": [
      "specify item: Jeans\n",
      "specify number of qty: 12\n",
      "not found in inventory, do you want to add as new product?\n"
     ]
    }
   ],
   "source": [
    "#Testing the product that is not in our inventory\n",
    "\n",
    "new_invent = input('specify item: ')\n",
    "invent_qty = int(input('specify number of qty: '))\n",
    "\n",
    "old_qty, new_qty= inventory_updater(new_invent, invent_qty)\n",
    "\n",
    "if new_qty != '...':\n",
    "    print(f'{new_invent} inventory updated from {old_qty} to  {new_qty}')\n",
    "else:\n",
    "    print('not found in inventory, do you want to add as new product?')\n"
   ]
  },
  {
   "cell_type": "markdown",
   "id": "6c5e5a1b",
   "metadata": {},
   "source": [
    "## A function the automatically reduce the inventory when a products is sold out of the stock"
   ]
  },
  {
   "cell_type": "code",
   "execution_count": 15,
   "id": "1aa8c7aa",
   "metadata": {},
   "outputs": [],
   "source": [
    "# 3b. INVENTORY UPDATE (WHEN PRODUCTS ARE SOLD OUT)\n",
    "\n",
    "def inventory_reducer(prod, qty):    \n",
    "    for k, v in prod_dict.items():\n",
    "        \n",
    "        category = k\n",
    "        prod_list = v\n",
    "        \n",
    "        if prod in prod_list:\n",
    "            if category == 'beverages':\n",
    "                \n",
    "                old_qty = bev_invent[prod]\n",
    "                bev_invent[prod] -= qty \n",
    "                print('sold successfully')\n",
    "                return [old_qty, bev_invent[prod]]\n",
    "            \n",
    "            elif category == 'phone_accessories':\n",
    "                old_qty = phone_ass_invent[prod]\n",
    "                phone_ass_invent[prod] -= qty #\n",
    "                print('sold successfully')\n",
    "                return [old_qty,phone_ass_invent[prod]]\n",
    "            \n",
    "            elif category == 'toiletries':\n",
    "                old_qty = toilet_invent[prod]\n",
    "                toilet_invent[prod] -= qty # \n",
    "                print('sold successfully')\n",
    "                return [old_qty, toilet_invent[prod]]\n",
    "\n",
    "            elif category == 'pastry':\n",
    "                old_qty = pastry_invent[prod]                       \n",
    "                pastry_invent[prod] -= qty  \n",
    "                print('sold successfully')\n",
    "                return [old_qty, pastry_invent[prod]]\n",
    "            elif category == 'cosmetics':\n",
    "                old_qty = cosmestic_invent[prod]\n",
    "                cosmestic_invent[prod] -= qty #\n",
    "                print('sold successfully')\n",
    "                return [old_qty, cosmestic_invent[prod]]\n",
    "\n",
    "        \n",
    "    return  [f'{prod}  not found in inventory, do you want to add as new product?', '...']\n"
   ]
  },
  {
   "cell_type": "markdown",
   "id": "afa8f5c2",
   "metadata": {},
   "source": [
    "## Testing the inventory_reducer function"
   ]
  },
  {
   "cell_type": "code",
   "execution_count": 18,
   "id": "2c84351f",
   "metadata": {},
   "outputs": [
    {
     "name": "stdout",
     "output_type": "stream",
     "text": [
      "specify item: Donuts\n",
      "specify number of qty: 5\n",
      "sold successfully\n",
      "Donuts inventory reduced from 100 to  95\n"
     ]
    }
   ],
   "source": [
    "#CALLING INPUTS FROM USER TO REDUCE STOCK\n",
    "#Calling a product in pastry\n",
    "\n",
    "sold_invent = input('specify item: ')\n",
    "sold_qty = int(input('specify number of qty: '))\n",
    "\n",
    "old_qty, new_qty = inventory_reducer(sold_invent, sold_qty)\n",
    "\n",
    "\n",
    "if new_qty != '...':\n",
    "    print(f'{sold_invent} inventory reduced from {old_qty} to  {new_qty}')\n",
    "else:\n",
    "    print(f'{sold_invent} not found in inventory, do you want to add as new product?')\n"
   ]
  },
  {
   "cell_type": "code",
   "execution_count": 19,
   "id": "233e40a7",
   "metadata": {},
   "outputs": [
    {
     "name": "stdout",
     "output_type": "stream",
     "text": [
      "specify item: Perfumes\n",
      "specify number of qty: 30\n",
      "sold successfully\n",
      "Perfumes inventory reduced from 360 to  330\n"
     ]
    }
   ],
   "source": [
    "#CALLING INPUTS FROM USER TO REDUCE STOCK\n",
    "#Calling a product in cosmetics\n",
    "\n",
    "sold_invent = input('specify item: ')\n",
    "sold_qty = int(input('specify number of qty: '))\n",
    "\n",
    "old_qty, new_qty = inventory_reducer(sold_invent, sold_qty)\n",
    "\n",
    "\n",
    "if new_qty != '...':\n",
    "    print(f'{sold_invent} inventory reduced from {old_qty} to  {new_qty}')\n",
    "else:\n",
    "    print(f'{sold_invent} not found in inventory, do you want to add as new product?')\n"
   ]
  },
  {
   "cell_type": "markdown",
   "id": "91070e47",
   "metadata": {},
   "source": [
    "## To check is the product requested is avalaible in stock"
   ]
  },
  {
   "cell_type": "code",
   "execution_count": 20,
   "id": "6b1ffccb",
   "metadata": {},
   "outputs": [],
   "source": [
    "# 4. Checking if a product is available in the inventory\n",
    "\n",
    "def check_inventory(prod):\n",
    "    \n",
    "    for k, v in prod_dict.items():\n",
    "        \n",
    "        category = k\n",
    "        prod_list = v\n",
    "        prod_invent = ''\n",
    "        if prod in prod_list:\n",
    "            if category == 'beverages':\n",
    "                prod_invent = bev_invent[prod]\n",
    "                return prod_invent \n",
    "            \n",
    "            elif category == 'phone_accessories':\n",
    "                prod_invent = phone_ass_invent[prod]\n",
    "                return prod_invent \n",
    "            \n",
    "            elif category == 'toiletries':\n",
    "                prod_invent = toilet_invent[prod]\n",
    "                return prod_invent\n",
    "            \n",
    "            elif category == 'pastry':\n",
    "                prod_invent = pastry_invent[prod]\n",
    "                return prod_invent\n",
    "                \n",
    "            elif category == 'cosmetics':\n",
    "                prod_invent = cosmestic_invent[prod]\n",
    "                return prod_invent\n",
    "        \n",
    "            \n",
    "    return  f'{prod}  not found in inventory'\n"
   ]
  },
  {
   "cell_type": "code",
   "execution_count": 21,
   "id": "73976adb",
   "metadata": {},
   "outputs": [
    {
     "name": "stdout",
     "output_type": "stream",
     "text": [
      "enter product: Perfumes\n",
      "330\n"
     ]
    }
   ],
   "source": [
    "#Testing for products in cosmetic\n",
    "\n",
    "prod_check = input('enter product: ')\n",
    "\n",
    "prod_count = check_inventory(prod_check)\n",
    "print(prod_count)"
   ]
  },
  {
   "cell_type": "code",
   "execution_count": 22,
   "id": "668f025a",
   "metadata": {},
   "outputs": [
    {
     "name": "stdout",
     "output_type": "stream",
     "text": [
      "enter product: Jeans\n",
      "Jeans  not found in inventory\n"
     ]
    }
   ],
   "source": [
    "#Testing for a product that does not exist in our inventory\n",
    "\n",
    "prod_check = input('enter product: ')\n",
    "\n",
    "prod_count = check_inventory(prod_check)\n",
    "print(prod_count)"
   ]
  },
  {
   "cell_type": "markdown",
   "id": "c1be5c16",
   "metadata": {},
   "source": [
    "## This will enable the app raise an alarm to let them know, that the products are falling below 5 quantities"
   ]
  },
  {
   "cell_type": "code",
   "execution_count": 23,
   "id": "4a57d268",
   "metadata": {},
   "outputs": [],
   "source": [
    "# 4.b RAISE AN ALARM ONCE ANY INVENTORY FALLS BELOW FIVE\n",
    "\n",
    "def invent_alarm(prod):\n",
    "    '''\n",
    "    this function help us run through the inventories and raise alarm if any item is below 5 in the stock\n",
    "    '''\n",
    "    for k, v in prod_dict.items():\n",
    "        \n",
    "        category = k\n",
    "        prod_list = v\n",
    "        pol = 5\n",
    "    \n",
    "        if prod in prod_list:\n",
    "            if category == 'beverages':\n",
    "                p = bev_invent[prod]\n",
    "                if p < pol:\n",
    "                    return f'{prod} is not avaliable for sale'\n",
    "                else:\n",
    "                    return f'{prod} is currently selling'  #its working now\n",
    "            \n",
    "#testing if it will work for all category\n",
    "            elif category == 'phone_accessories':\n",
    "                p = phone_ass_invent[prod]\n",
    "                if p < pol:\n",
    "                    return f'{prod} is not avaliable for sale'\n",
    "                else:\n",
    "                    return f'{prod} is currently selling'\n",
    "            elif category == 'toiletries':\n",
    "                p = toilet_invent[prod]\n",
    "                if p < pol:\n",
    "                    return f'{prod} is not avaliable for sale'\n",
    "                else:\n",
    "                    return f'{prod} is currently selling'\n",
    "            elif category == 'pastry':\n",
    "                p = pastry_invent[prod]\n",
    "                if p < pol:\n",
    "                        return f'{prod} is not avaliable for sale'\n",
    "                else:\n",
    "                    return f'{prod} is currently selling'\n",
    "            elif category == 'cosmetics':\n",
    "                p = cosmestic_invent[prod]\n",
    "                if p < pol:\n",
    "                    return f'{prod} is not avaliable for sale'\n",
    "                else:\n",
    "                    return f'{prod} is currently selling'\n",
    "        \n",
    "        \n",
    "    return f'{prod} is not found in inventory'"
   ]
  },
  {
   "cell_type": "code",
   "execution_count": 24,
   "id": "42d4f2b0",
   "metadata": {},
   "outputs": [
    {
     "name": "stdout",
     "output_type": "stream",
     "text": [
      "enter product name: Jeans\n"
     ]
    },
    {
     "data": {
      "text/plain": [
       "'Jeans is not found in inventory'"
      ]
     },
     "execution_count": 24,
     "metadata": {},
     "output_type": "execute_result"
    }
   ],
   "source": [
    "#Calling  a product that is not in our invenory\n",
    "\n",
    "item = input('enter product name: ')\n",
    "alarm = invent_alarm(item)\n",
    "alarm"
   ]
  },
  {
   "cell_type": "code",
   "execution_count": 25,
   "id": "0dbed95b",
   "metadata": {},
   "outputs": [
    {
     "name": "stdout",
     "output_type": "stream",
     "text": [
      "enter product name: Tea\n"
     ]
    },
    {
     "data": {
      "text/plain": [
       "'Tea is currently selling'"
      ]
     },
     "execution_count": 25,
     "metadata": {},
     "output_type": "execute_result"
    }
   ],
   "source": [
    "# Testing a product from beverages\n",
    "\n",
    "item = input('enter product name: ')\n",
    "alarm = invent_alarm(item)\n",
    "alarm"
   ]
  },
  {
   "cell_type": "code",
   "execution_count": 26,
   "id": "5755d650",
   "metadata": {},
   "outputs": [
    {
     "name": "stdout",
     "output_type": "stream",
     "text": [
      "enter product name: Burgers\n"
     ]
    },
    {
     "data": {
      "text/plain": [
       "'Burgers is not avaliable for sale'"
      ]
     },
     "execution_count": 26,
     "metadata": {},
     "output_type": "execute_result"
    }
   ],
   "source": [
    "# Testing a product that is in pastry\n",
    "\n",
    "item = input('enter product name: ')\n",
    "alarm = invent_alarm(item)\n",
    "alarm"
   ]
  },
  {
   "cell_type": "code",
   "execution_count": 27,
   "id": "83975f9d",
   "metadata": {},
   "outputs": [
    {
     "name": "stdout",
     "output_type": "stream",
     "text": [
      "enter product name: Soda\n"
     ]
    },
    {
     "data": {
      "text/plain": [
       "'Soda is not avaliable for sale'"
      ]
     },
     "execution_count": 27,
     "metadata": {},
     "output_type": "execute_result"
    }
   ],
   "source": [
    "# Testing a product from beverages\n",
    "\n",
    "item = input('enter product name: ')\n",
    "alarm = invent_alarm(item)\n",
    "alarm"
   ]
  },
  {
   "cell_type": "markdown",
   "id": "5413f80d",
   "metadata": {},
   "source": [
    "## The dictionary below is used to store the prices of all the products in the grocery store"
   ]
  },
  {
   "cell_type": "code",
   "execution_count": 170,
   "id": "7b297ccf",
   "metadata": {},
   "outputs": [],
   "source": [
    "#THE PRICE OF ITEMS IN THE STORE\n",
    "\n",
    "bev_price = {'Chocolate_drinks':40, 'Coffee':30, 'Tea':45, 'Soy_Drinks':30, 'Pop':25, 'Soda':60}\n",
    "phone_ass_price = {'Carrying_Case':150, 'Earpieces':100, 'Screen_guards':80}\n",
    "toilet_price = {'Toilet_paper':50, 'Body_Soap':40, 'Scrubs':100, 'Body_Crème':200, 'Shampoo':200}\n",
    "pastry_price = {'Pizza':150, 'Burgers':40, 'Donuts':100, 'Muffins':120, 'Cheesecakes':70}\n",
    "cosmestic_price = {'Perfumes':160, 'vanishes':130, 'Nail_Polish':140, 'Deodorants':150, 'Facial_Scrubs':145}\n"
   ]
  },
  {
   "cell_type": "markdown",
   "id": "8151f30a",
   "metadata": {},
   "source": [
    "## The purchase function takes account of all products sold "
   ]
  },
  {
   "cell_type": "code",
   "execution_count": 178,
   "id": "c96a8205",
   "metadata": {},
   "outputs": [],
   "source": [
    "#### 5. INFORMATION ABOUT PURCHASES\n",
    "\n",
    "def purchase(prod, qty):\n",
    "    '''\n",
    "    This function takes every customer's purchase, and calculate the\n",
    "    total sales using the products prices and quantities\n",
    "    '''\n",
    "    \n",
    "    sell_price = ''\n",
    "    total_sales = ''\n",
    "    if prod in prod_dict['beverages']:\n",
    "        sell_price =  bev_price[prod]\n",
    "        total_sales = sell_price * qty\n",
    "        \n",
    "   \n",
    "    if prod in prod_dict['phone_accessories']:\n",
    "        sell_price =  phone_ass_price[prod]\n",
    "        total_sales = sell_price * qty\n",
    "                \n",
    "    if prod in prod_dict['toiletries']:\n",
    "        sell_price =  toilet_price[prod]\n",
    "        total_sales = sell_price * qty\n",
    "                \n",
    "    if prod in prod_dict['pastry']:\n",
    "        sell_price =  pastry_price[prod]\n",
    "        total_sales = sell_price * qty\n",
    "                \n",
    "    if prod in prod_dict['cosmetics']:\n",
    "        sell_price =  cosmestic_price[prod]\n",
    "        total_sales = sell_price * qty\n",
    "    return [sell_price,total_sales] \n",
    "\n",
    "def sales_purchase():\n",
    "    '''\n",
    "    This function allows the casher at the checkout\n",
    "    point to enter the names of products sold and \n",
    "    prints out the total sales of each purchase\n",
    "    '''\n",
    "    \n",
    "    item_list = input('list all items seperated by comma')\n",
    "    item_qty = input('list each item quantity seperated by comma')\n",
    "    sales_dict = dict()\n",
    "    prods = item_list.split(',') \n",
    "    qty_list = item_qty.split(',')\n",
    "    qtys = []\n",
    "    for qty in qty_list:\n",
    "        qtys.append(float(qty))\n",
    "    print(prods)  \n",
    "    print(qtys)\n",
    "    for p  ,q in zip(prods, qtys):\n",
    "        print(p,q)\n",
    "        p_total_sales = purchase(p, q)\n",
    "        print(p_total_sales)\n",
    "        unit_price = p_total_sales[0]\n",
    "        final_sale = p_total_sales[1]\n",
    "        sales_dict[p]= [p, q, unit_price, final_sale]\n",
    "        \n",
    "    return sales_dict  "
   ]
  },
  {
   "cell_type": "markdown",
   "id": "26e3a3a6",
   "metadata": {},
   "source": [
    "## Pandas was used to record all transactions in tables"
   ]
  },
  {
   "cell_type": "code",
   "execution_count": 180,
   "id": "153ed842",
   "metadata": {},
   "outputs": [
    {
     "name": "stdout",
     "output_type": "stream",
     "text": [
      "list all items seperated by commaTea,Pop,Coffee,Muffins,Scrubs\n",
      "list each item quantity seperated by comma5,10,5,2,2\n",
      "['Tea', 'Pop', 'Coffee', 'Muffins', 'Scrubs']\n",
      "[5.0, 10.0, 5.0, 2.0, 2.0]\n",
      "Tea 5.0\n",
      "[45, 225.0]\n",
      "Pop 10.0\n",
      "[25, 250.0]\n",
      "Coffee 5.0\n",
      "[30, 150.0]\n",
      "Muffins 2.0\n",
      "[120, 240.0]\n",
      "Scrubs 2.0\n",
      "[100, 200.0]\n",
      "      Item  Quantity  Selling Price  Total Sales\n",
      "0      Tea       5.0             45        225.0\n",
      "1      Pop      10.0             25        250.0\n",
      "2   Coffee       5.0             30        150.0\n",
      "3  Muffins       2.0            120        240.0\n",
      "4   Scrubs       2.0            100        200.0\n"
     ]
    }
   ],
   "source": [
    "#6. importing all the records from purchases into a table\n",
    "\n",
    "import pandas as pd  #this part is helping us to transfer all the records into a table form (recipts)\n",
    "\n",
    "sales = sales_purchase()\n",
    "\n",
    "sales_list = list(sales.values())\n",
    "df = pd.DataFrame(sales_list, columns = ['Item','Quantity','Selling Price', 'Total Sales'])\n",
    "print(df)\n",
    "total =sum(df['Total Sales'])\n",
    "df_arr = df.values.tolist()\n",
    "df_arr.append(['Total','','',total])\n",
    "\n",
    "# store the whole informtaion into a varaible name, df\n",
    "\n",
    "df = pd.DataFrame(df_arr,columns = ['Item','Quantity','Selling Price', 'Total Sales'] )\n"
   ]
  },
  {
   "cell_type": "markdown",
   "id": "d5b819c9",
   "metadata": {},
   "source": [
    "## To call the receipts, we write df"
   ]
  },
  {
   "cell_type": "code",
   "execution_count": 181,
   "id": "038c2e76",
   "metadata": {},
   "outputs": [
    {
     "data": {
      "text/html": [
       "<div>\n",
       "<style scoped>\n",
       "    .dataframe tbody tr th:only-of-type {\n",
       "        vertical-align: middle;\n",
       "    }\n",
       "\n",
       "    .dataframe tbody tr th {\n",
       "        vertical-align: top;\n",
       "    }\n",
       "\n",
       "    .dataframe thead th {\n",
       "        text-align: right;\n",
       "    }\n",
       "</style>\n",
       "<table border=\"1\" class=\"dataframe\">\n",
       "  <thead>\n",
       "    <tr style=\"text-align: right;\">\n",
       "      <th></th>\n",
       "      <th>Item</th>\n",
       "      <th>Quantity</th>\n",
       "      <th>Selling Price</th>\n",
       "      <th>Total Sales</th>\n",
       "    </tr>\n",
       "  </thead>\n",
       "  <tbody>\n",
       "    <tr>\n",
       "      <th>0</th>\n",
       "      <td>Tea</td>\n",
       "      <td>5.0</td>\n",
       "      <td>45</td>\n",
       "      <td>225.0</td>\n",
       "    </tr>\n",
       "    <tr>\n",
       "      <th>1</th>\n",
       "      <td>Pop</td>\n",
       "      <td>10.0</td>\n",
       "      <td>25</td>\n",
       "      <td>250.0</td>\n",
       "    </tr>\n",
       "    <tr>\n",
       "      <th>2</th>\n",
       "      <td>Coffee</td>\n",
       "      <td>5.0</td>\n",
       "      <td>30</td>\n",
       "      <td>150.0</td>\n",
       "    </tr>\n",
       "    <tr>\n",
       "      <th>3</th>\n",
       "      <td>Muffins</td>\n",
       "      <td>2.0</td>\n",
       "      <td>120</td>\n",
       "      <td>240.0</td>\n",
       "    </tr>\n",
       "    <tr>\n",
       "      <th>4</th>\n",
       "      <td>Scrubs</td>\n",
       "      <td>2.0</td>\n",
       "      <td>100</td>\n",
       "      <td>200.0</td>\n",
       "    </tr>\n",
       "    <tr>\n",
       "      <th>5</th>\n",
       "      <td>Total</td>\n",
       "      <td></td>\n",
       "      <td></td>\n",
       "      <td>1065.0</td>\n",
       "    </tr>\n",
       "  </tbody>\n",
       "</table>\n",
       "</div>"
      ],
      "text/plain": [
       "      Item Quantity Selling Price  Total Sales\n",
       "0      Tea      5.0            45        225.0\n",
       "1      Pop     10.0            25        250.0\n",
       "2   Coffee      5.0            30        150.0\n",
       "3  Muffins      2.0           120        240.0\n",
       "4   Scrubs      2.0           100        200.0\n",
       "5    Total                              1065.0"
      ]
     },
     "execution_count": 181,
     "metadata": {},
     "output_type": "execute_result"
    }
   ],
   "source": [
    "df"
   ]
  },
  {
   "cell_type": "code",
   "execution_count": null,
   "id": "895f70b9",
   "metadata": {},
   "outputs": [],
   "source": []
  },
  {
   "cell_type": "code",
   "execution_count": null,
   "id": "588e8dbb",
   "metadata": {},
   "outputs": [],
   "source": []
  }
 ],
 "metadata": {
  "kernelspec": {
   "display_name": "Python 3 (ipykernel)",
   "language": "python",
   "name": "python3"
  },
  "language_info": {
   "codemirror_mode": {
    "name": "ipython",
    "version": 3
   },
   "file_extension": ".py",
   "mimetype": "text/x-python",
   "name": "python",
   "nbconvert_exporter": "python",
   "pygments_lexer": "ipython3",
   "version": "3.9.12"
  }
 },
 "nbformat": 4,
 "nbformat_minor": 5
}
